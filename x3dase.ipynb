{
  "nbformat": 4,
  "nbformat_minor": 0,
  "metadata": {
    "colab": {
      "provenance": []
    },
    "kernelspec": {
      "name": "python3",
      "display_name": "Python 3"
    },
    "language_info": {
      "name": "python"
    }
  },
  "cells": [
    {
      "cell_type": "code",
      "execution_count": null,
      "metadata": {
        "id": "Py_Dyxpmj3P-"
      },
      "outputs": [],
      "source": [
        "!pip install --upgrade x3dase"
      ]
    },
    {
      "cell_type": "code",
      "source": [
        "from ase.build import molecule\n",
        "from x3dase.visualize import view_x3d_n\n",
        "import IPython\n",
        "\n",
        "atoms = molecule('C2H6SO')\n",
        "view_x3d_n(atoms, output='c2h6so.html', bond =1.0, label=True)\n",
        "IPython.display.HTML(filename='c2h6so.html')"
      ],
      "metadata": {
        "id": "LJY7TwDPkFNi"
      },
      "execution_count": null,
      "outputs": []
    }
  ]
}