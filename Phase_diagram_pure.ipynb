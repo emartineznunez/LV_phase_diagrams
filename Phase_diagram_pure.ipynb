{
  "metadata": {
    "kernelspec": {
      "name": "python3",
      "display_name": "Python 3 (ipykernel)",
      "language": "python"
    },
    "language_info": {
      "name": "python",
      "version": "3.10.10",
      "mimetype": "text/x-python",
      "codemirror_mode": {
        "name": "ipython",
        "version": 3
      },
      "pygments_lexer": "ipython3",
      "nbconvert_exporter": "python",
      "file_extension": ".py"
    },
    "colab": {
      "provenance": []
    }
  },
  "nbformat_minor": 0,
  "nbformat": 4,
  "cells": [
    {
      "cell_type": "markdown",
      "source": [
        "# **Installing needed packages**"
      ],
      "metadata": {
        "id": "q5YWpp_PxHXN"
      }
    },
    {
      "cell_type": "markdown",
      "source": [
        "## Installing libraries and fetching some scripts. **It takes $\\approx$ 2 minutes.**\n",
        "\n",
        "### $\\textbf{Note:}$ The Python kernel needs to be restarted for changes to be applied. This happens automatically. If you are wondering why you are seeing a message saying \"Your session crashed for an unknown reason\", this is why. You can safely ignore this message!"
      ],
      "metadata": {
        "id": "rg3V4JroNInV"
      }
    },
    {
      "cell_type": "code",
      "source": [
        "#@title Installation of packages\n",
        "%%capture\n",
        "!pip install -q condacolab\n",
        "import condacolab\n",
        "condacolab.install()\n",
        "! pip install ase chemicals pubchempy\n",
        "! pip install --upgrade x3dase\n",
        "! sudo apt install cm-super dvipng texlive-latex-extra texlive-latex-recommended\n",
        "! curl -LJO https://github.com/emartineznunez/LV_phase_diagrams/raw/main/shell_scripts/get_geom_mopac.sh\n",
        "! curl -LJO https://github.com/emartineznunez/LV_phase_diagrams/raw/main/shell_scripts/get_freq_mopac.sh\n",
        "! curl -LJO https://github.com/emartineznunez/LV_phase_diagrams/raw/main/shell_scripts/NM.sh\n",
        "%env PATH=\"/content:.:/opt/bin:/usr/local/nvidia/bin:/usr/local/cuda/bin:/usr/local/sbin:/usr/local/bin:/usr/sbin:/usr/bin:/sbin:/bin:/tools/node/bin:/tools/google-cloud-sdk/bin\"\n",
        "%env LD_LIBRARY_PATH=\"/content:/usr/local/nvidia/lib:/usr/local/nvidia/lib64\"\n",
        "!chmod +x get_geom_mopac.sh get_freq_mopac.sh NM.sh\n",
        "!conda install -c conda-forge mopac"
      ],
      "metadata": {
        "id": "yfHKlXc6DNkb",
        "cellView": "form"
      },
      "execution_count": null,
      "outputs": []
    },
    {
      "cell_type": "markdown",
      "source": [
        "# **Selecting the substance**"
      ],
      "metadata": {
        "id": "AUVe_OwYeNj_"
      }
    },
    {
      "cell_type": "code",
      "source": [
        "#@title Retrieving the CID of the substance from PubChem https://pubchem.ncbi.nlm.nih.gov/\n",
        "import pubchempy as pcp\n",
        "import sys\n",
        "\n",
        "nm = input('Identifier type: cid, name, smiles, sdf, inchi, inchikey, or formula: ')\n",
        "if nm not in ['cid','name','smiles','sdf','inchi','inchikey','formula']:\n",
        "  print('Please select one of the identifiers indicated below')\n",
        "  sys.exit()\n",
        "\n",
        "molA = input('Type your first molecule here: ')\n",
        "\n",
        "queryA = pcp.get_compounds(molA,nm,record_type='3d')\n",
        "cid_A = pcp.get_cids(molA)\n",
        "if len(cid_A) == 0:\n",
        "  print('Molecule not found')\n",
        "else:\n",
        "  print('CID of molecule: ',cid_A)"
      ],
      "metadata": {
        "id": "El0wvphGwT9m",
        "cellView": "form"
      },
      "execution_count": null,
      "outputs": []
    },
    {
      "cell_type": "markdown",
      "source": [
        "# **Optimization with MOPAC**"
      ],
      "metadata": {
        "id": "L4gKv4voL6Kw"
      }
    },
    {
      "cell_type": "markdown",
      "source": [
        "## MOPAC is a computational package that is capable of finding the mininim-energy structures of molecules using semi-empirical methods http://openmopac.net/\n",
        "\n",
        "### Our calculations utilize PM7 semi-empirical Hamiltonian https://link.springer.com/article/10.1007/s00894-012-1667-x\n",
        "\n",
        "### If the first optimization attempt leads to imaginary frequencies, a second attempt is made starting with a geometry $\\textbf x'$ that results from a slight distortion of the original structure $\\textbf x$ along the normal mode with the imaginary frequency $\\textbf L_i$:\n",
        "\n",
        "### $\\textbf x'=\\textbf x + \\Delta x \\textbf L_i$\n",
        "\n",
        "### The final optimized structure can be visualized with X3D https://github.com/superstar54/x3dase"
      ],
      "metadata": {
        "id": "WR0sFADKYoXO"
      }
    },
    {
      "cell_type": "code",
      "source": [
        "#@title Optimization, vibrational frequencies and visualization\n",
        "from x3dase.visualize import view_x3d_n\n",
        "from ase.io import read\n",
        "import IPython\n",
        "\n",
        "m = queryA[0]\n",
        "! echo \"precise denout\" > molA.mop\n",
        "! echo \"mol A opt\" >> molA.mop\n",
        "! echo \"mol A opt\" >> molA.mop\n",
        "f = open('dumpA','w')\n",
        "for i,a in enumerate(m.atoms): f.write(m.elements[i]+' '+str(a.x)+' '+str(a.y)+' '+str(a.z)+'\\n')\n",
        "f.close()\n",
        "! cat dumpA >> molA.mop\n",
        "! echo \"\" >> molA.mop\n",
        "! echo \"oldgeo oldens force thermo(298,298)\" >> molA.mop\n",
        "!mopac molA.mop &> molA.log\n",
        "\n",
        "#Negative freqs??\n",
        "freq1 = !./get_freq_mopac.sh molA.out | awk 'NR=1{print $1;exit}'\n",
        "if (float(freq1[0])) < 0:\n",
        "  ! echo \"precise denout\" > molA.mop\n",
        "  ! echo \"mol A opt\" >> molA.mop\n",
        "  ! echo \"mol A opt\" >> molA.mop\n",
        "  !./NM.sh molA.out >> molA.mop\n",
        "  ! echo \"\" >> molA.mop\n",
        "  ! echo \"oldgeo oldens force thermo(298,298)\" >> molA.mop\n",
        "  !mopac molA.mop &> molA.log\n",
        "#Negative freqs??\n",
        "\n",
        "ene_A = ! awk '/FINAL HEAT OF FORMATION/{print $6}' molA.out\n",
        "zpe_A = ! awk '/ZERO POINT ENERGY/{print $4}' molA.out\n",
        "sigmaA = ! awk '/SYMMETRY NUMBER/{print $NF}' molA.out\n",
        "\n",
        "print('Energy of molecule A: %10.2f kcal/mol' % float(ene_A[0]))\n",
        "print('ZPVE   of molecule A: %10.2f kcal/mol' % float(zpe_A[0]))\n",
        "print('')\n",
        "print('')\n",
        "print('VISUALIZATION OF THE OPTIMIZED STRUCTURE')\n",
        "\n",
        "!./get_geom_mopac.sh molA.out > molA.xyz\n",
        "atoms = read('molA.xyz')\n",
        "view_x3d_n(atoms,output='molA.html', bond=1.0, label=True)\n",
        "IPython.display.HTML(filename='molA.html')"
      ],
      "metadata": {
        "id": "Sm7hSTMO2h2a",
        "cellView": "form"
      },
      "execution_count": null,
      "outputs": []
    },
    {
      "cell_type": "markdown",
      "source": [
        "# **Plotting liquid-vapor phase-diagrams of ideal solutions**"
      ],
      "metadata": {
        "id": "d4p8dNBuecNc"
      }
    },
    {
      "cell_type": "markdown",
      "source": [
        "### The vapor pressure of a pure substance $P^*$, whose boiling point at $P^0=1$ bar is $T^{0}$, can be obtained from the Clausius equation for any temperature $T$:\n",
        "\n",
        "### $\\ln P^*/P^0\\approx -\\frac{\\Delta_{vap}H_m}{R}\\left(\\frac{1}{T}-\\frac{1}{T^{0}}\\right)$\n",
        "\n",
        "The $\\approx$ symbol is used because we assume that the molar volume of the gas is much greater than that of the liquid $V_{m,gas}>>V_{m,liq}$ , the gas behaves ideally, and $\\Delta _{vap}H_m$ remains constant along the equilibiurm line."
      ],
      "metadata": {
        "id": "Q2YIn6E4b-YX"
      }
    },
    {
      "cell_type": "code",
      "source": [
        "#@title Importing libraries and defining functions\n",
        "import numpy as np\n",
        "import sys\n",
        "from chemicals import *\n",
        "#from requests import get\n",
        "from bs4 import BeautifulSoup\n",
        "import matplotlib.pyplot as plt\n",
        "\n",
        "def p(dH,T0,T):\n",
        "  return p0 * np.exp(dH/R * (1/T0 - 1/T) )\n",
        "\n",
        "def xa_l(T):\n",
        "  return (ptot - p(dHB,TB0,T)) / (p(dHA,TA0,T) - p(dHB,TB0,T))\n",
        "\n",
        "def xa_v(T):\n",
        "  return xa_l(T) * p(dHA,TA0,T) / (p(dHB,TB0,T) +  (p(dHA,TA0,T) - p(dHB,TB0,T)) * xa_l(T))\n",
        "\n",
        "def tcross(x):\n",
        "  return (dHB + x * (dHA - dHB)) / (dHB / TB + x * (dHA / TA - dHB / TB))\n",
        "\n",
        "#Chemical potentials Molar Gibbs energies G_m = Sum_i x_i * mu_i\n",
        "def G(mu0,x,p,T):\n",
        "  return mu0 + R * T * np.log(p * x / p0)\n",
        "def Gm_l(xa,T):\n",
        "  return xa * G(muA0,xa,p(dHA,TA0,T),T) + (1 - xa) * G(muB0,1-xa,p(dHB,TB0,T),T)\n",
        "def Gm_g(xa,T):\n",
        "  return xa * G(muA0,xa,ptot,T) + (1 - xa) * G(muB0,1-xa,ptot,T)"
      ],
      "metadata": {
        "id": "IyvB3cTTnWUK",
        "cellView": "form"
      },
      "execution_count": null,
      "outputs": []
    },
    {
      "cell_type": "markdown",
      "source": [],
      "metadata": {
        "id": "6dEOJFqnb1n4"
      }
    },
    {
      "cell_type": "code",
      "source": [
        "#@title Plotting the phase diagrams\n",
        "#Pressures, temperature range for the L-V phase diagram and constants\n",
        "p0 = 1 # standard pressure of 1 bar\n",
        "R = 8.314472e-3  # kJ/(K mol)\n",
        "\n",
        "#Retrieve properties of molecules\n",
        "moleculeA = search_chemical(molA)\n",
        "TA0  = Tb(moleculeA.CASs)\n",
        "TAc = Tc(moleculeA.CASs)\n",
        "PcA = Pc(moleculeA.CASs)\n",
        "TtA = Tt(moleculeA.CASs)\n",
        "dHA = Riedel(TA0,TAc,PcA) * 1e-3\n",
        "\n",
        "temp = 298\n",
        "part = p(dHA,TA0,temp)*750.062\n",
        "print('\\033[1mSubstance :\\033[0m ',molA)\n",
        "print('\\033[1mProperties:\\033[0m')\n",
        "print('Heat of vaporization: %10.2f kJ/mol' % dHA)\n",
        "print('Boiling point:        %10.2f K' % TA0)\n",
        "print('Triple  point:        %10.2f K' % TtA)\n",
        "print('Vapor pressure (%3.0f K): %8.2f torr' % (temp,part))\n",
        "print('')\n",
        "\n",
        "T = np.linspace(TtA,TtA+100,100)\n",
        "\n",
        "#Plot the P-T diagram (P vs T)\n",
        "plt.rcParams['text.usetex'] = True\n",
        "plt.plot(T,p(dHA,TA0,T)*750.062,'-',color='blue',label=\"A\")\n",
        "plt.ylabel(r'$P(\\mathrm{torr})$',fontsize=20)\n",
        "plt.xlabel(r'$T(K)$',fontsize=20)\n",
        "plt.legend()\n",
        "plt.title('Pressure-temperature phase-diagram for '+molA, fontsize=17)\n",
        "plt.ylim(bottom=0)\n",
        "plt.xticks(fontsize=16)\n",
        "plt.yticks(fontsize=16)\n",
        "plt.tight_layout()\n",
        "plt.savefig('P_PA_PB.svg')\n",
        "plt.show()"
      ],
      "metadata": {
        "id": "QOGOAeMPu3Gx",
        "cellView": "form"
      },
      "execution_count": null,
      "outputs": []
    },
    {
      "cell_type": "markdown",
      "source": [
        "# **Plotting Gibbs energies of the different phases for different temperatures**"
      ],
      "metadata": {
        "id": "DyRstEqunEuT"
      }
    },
    {
      "cell_type": "markdown",
      "source": [
        "# Statistical therodynamics calculation of the standard-state chemical potential (Molar Gibbs energy) of each substance $\\mu_m^{0}$.\n",
        "### Using the Rigid-Rotor/Harmonic-Oscillator (RR/HO) model, this can be obtained from:\n",
        "\n",
        "### $\\mu_m^{0}=E_{el}+ZPVE-RT\\ln \\frac{q_m^{0}}{N_A}$\n",
        "\n",
        "### where $E_{el}$ and $ZPVE$ are the electronic energy and zero-point vibrational energy (both determined in the above MOPAC calculation), and $-RT\\ln (q_m^{0}/N_{A})$ is a thermal correction with:\n",
        "\n",
        "### $\\frac{q_m^{0}}{N_A} =\\frac{q_{tr,m}^{0}}{N_A} \\times q_{rot} \\times q_{vib} = \\left( \\frac{2\\pi mk_B T}{h^{2}} \\right)^{3/2} \\frac{k_BT}{P^{0}} \\times 1/\\sigma \\left( \\frac{k_BT}{hc} \\right)^{3/2} \\left( \\frac{\\pi}{\\tilde{A}\\tilde{B}\\tilde{C}}\\right)\\times \\prod_{i=1}^{N_v}\\frac{1}{1-\\exp(-hc\\tilde{\\nu} /k_BT)}$\n"
      ],
      "metadata": {
        "id": "mFDiZ7xLLt3I"
      }
    },
    {
      "cell_type": "code",
      "source": [
        "#@title Thermal correction in $\\mu_m^{0}$\n",
        "\n",
        "\n",
        "def G_m_0(temp,m,A,B,C,sigma,*freq):\n",
        "  import math\n",
        "  q_t = (2*math.pi*m*m_u*k_B*temp/h/h)**1.5*k_B*temp/bar2Pa\n",
        "  rA  = h * c * 100 * A / k_B\n",
        "  rB  = h * c * 100 * B / k_B\n",
        "  rC  = h * c * 100 * C / k_B\n",
        "  q_r = 1 / sigma * math.sqrt(math.pi)*(temp**1.5/math.sqrt(rA*rB*rC))\n",
        "  q_v = 1\n",
        "\n",
        "  for ele in freq:\n",
        "    rv  = h * c * 100 * float(ele) / k_B\n",
        "    q_v = -q_v / math.expm1(-rv/temp)\n",
        "  q = q_t * q_r * q_v\n",
        "  return - R * temp * np.log(q)\n",
        "\n",
        "def pfs(temp,m,A,B,C,sigma,*freq):\n",
        "  import math\n",
        "  q_t = (2*math.pi*m*m_u*k_B*temp/h/h)**1.5*k_B*temp/bar2Pa\n",
        "  rA  = h * c * 100 * A / k_B\n",
        "  rB  = h * c * 100 * B / k_B\n",
        "  rC  = h * c * 100 * C / k_B\n",
        "  q_r = 1 / sigma * math.sqrt(math.pi)*(temp**1.5/math.sqrt(rA*rB*rC))\n",
        "  q_v = 1\n",
        "\n",
        "  for ele in freq:\n",
        "    rv  = h * c * 100 * float(ele) / k_B\n",
        "    q_v = -q_v / math.expm1(-rv/temp)\n",
        "  q = q_t * q_r * q_v\n",
        "  return sigma,A,B,C,q_t,q_r,q_v"
      ],
      "metadata": {
        "cellView": "form",
        "id": "Qp7h67Q2vZ7G"
      },
      "execution_count": null,
      "outputs": []
    },
    {
      "cell_type": "code",
      "source": [
        "#@title Determining Gibbs energies\n",
        "\n",
        "z = float( input('Choose the composition (z_A) for the determination of Gibbs energies: ') )\n",
        "\n",
        "m_u = 1.66053886e-27      # atomic mass constant in kg\n",
        "h = 6.6260693e-34         # J s\n",
        "k_B = 1.3806505e-23       # J/K\n",
        "c = 2.99792558e8          # speed of light in m/s\n",
        "bar2Pa = 1e5          # 1 bar to N/m**2\n",
        "\n",
        "# 1: when two phases start to co-exist at z\n",
        "# 2: when the gas phase is more stable\n",
        "diff = diff2 = 1e10\n",
        "for ele in T:\n",
        "  if abs(xa_l(ele) - z) < diff:\n",
        "    diff = abs(xa_l(ele) - z)\n",
        "    cot = ele\n",
        "  if abs(xa_v(ele) - z) < diff2:\n",
        "    diff2 = abs(xa_v(ele) - z)\n",
        "    cot2 = ele\n",
        "\n",
        "#Print the range of temperatures where the two phases co-exist\n",
        "print('Temperature range (K) where L and G co-exist at this composition: %6.2f-%6.2f' % (cot,cot2))\n",
        "\n",
        "#Number of points to plot the Molar Gibbs energies of the different phases\n",
        "N = 100\n",
        "# For the temperature dependence of mu0 check this:\n",
        "# https://chem.libretexts.org/Bookshelves/Physical_and_Theoretical_Chemistry_Textbook_Maps/Thermodynamics_and_Chemical_Equilibrium_(Ellgen)/24%3A_Indistinguishable_Molecules_-_Statistical_Thermodynamics_of_Ideal_Gases/24.10%3A_The_Gibbs_Free_Energy_for_One_Mole_of_An_Ideal_Gas\n",
        "T = np.linspace(cot,cot2,N)\n",
        "\n",
        "# The standard-state chemical potentials of the substances in the gas phase (determine from Statistical Thermodynamics)\n",
        "muA0 = np.empty(N)\n",
        "muB0 = np.empty(N)\n",
        "\n",
        "! ./get_freq_mopac.sh molA.out > dum\n",
        "freqA = ! awk '{if($1<0) print -$1; else print $1}' dum\n",
        "mA = ! awk '/MOLECULAR WEIGHT/{print $4;exit}' molA.out\n",
        "AA = ! awk '/A =/{print $3; exit}' molA.out\n",
        "BA = ! awk '/A =/{print $6; exit}' molA.out\n",
        "CA = ! awk '/A =/{print $9; exit}' molA.out\n",
        "\n",
        "! ./get_freq_mopac.sh molB.out > dum\n",
        "freqB = ! awk '{if($1<0) print -$1; else print $1}' dum\n",
        "mB = ! awk '/MOLECULAR WEIGHT/{print $4;exit}' molB.out\n",
        "AB = ! awk '/A =/{print $3; exit}' molB.out\n",
        "BB = ! awk '/A =/{print $6; exit}' molB.out\n",
        "CB = ! awk '/A =/{print $9; exit}' molB.out\n",
        "\n",
        "for Ti in T:\n",
        "  index = np.where(T == Ti)[0][0]\n",
        "  corrA = G_m_0(Ti,float(mA[0]),float(AA[0]),float(BA[0]),float(CA[0]),float(sigmaA[0]),*freqA)\n",
        "  muA0i = (float(ene_A[0])+float(zpe_A[0]) )*4.184 + corrA\n",
        "  corrB = G_m_0(Ti,float(mB[0]),float(AB[0]),float(BB[0]),float(CB[0]),float(sigmaB[0]),*freqB)\n",
        "  muB0i = (float(ene_B[0])+float(zpe_B[0]) )*4.184 + corrB\n",
        "  muA0[index] = muA0i\n",
        "  muB0[index] = muB0i\n",
        "\n",
        "#Plot the Gibbs energies of the different phases\n",
        "plt.rcParams['text.usetex'] = True\n",
        "plt.plot(T,Gm_l(z,T),'-',color='blue', label='L')\n",
        "plt.plot(T,Gm_g(z,T),'-',color='red', label='G')\n",
        "plt.plot(T,Gm_lg(z,T),'-',color='black', label='L+G')\n",
        "plt.ylabel(r'$G_{m}(\\mathrm{kJ/mol})$',fontsize=20)\n",
        "plt.xlabel(r'$T(\\mathrm{K})$',fontsize=20)\n",
        "plt.legend()\n",
        "plt.xlim(cot,cot2)\n",
        "plt.xticks(fontsize=16)\n",
        "plt.yticks(fontsize=16)\n",
        "plt.tight_layout()\n",
        "plt.savefig('Gibbs_energies.svg')\n",
        "plt.show()\n",
        "\n",
        "muA0 = np.empty(N)\n",
        "muB0 = np.empty(N)\n",
        "Tz=np.linspace(tcross(z)-1,tcross(z)+1,N)\n",
        "for Ti in Tz:\n",
        "  index = np.where(Tz == Ti)[0][0]\n",
        "  corrA = G_m_0(Ti,float(mA[0]),float(AA[0]),float(BA[0]),float(CA[0]),float(sigmaA[0]),*freqA)\n",
        "  muA0i = (float(ene_A[0])+float(zpe_A[0]) )*4.184 + corrA\n",
        "  corrB = G_m_0(Ti,float(mB[0]),float(AB[0]),float(BB[0]),float(CB[0]),float(sigmaB[0]),*freqB)\n",
        "  muB0i = (float(ene_B[0])+float(zpe_B[0]) )*4.184 + corrB\n",
        "  muA0[index] = muA0i\n",
        "  muB0[index] = muB0i\n",
        "\n",
        "#Plot the Gibbs energies of the different phases\n",
        "plt.rcParams['text.usetex'] = True\n",
        "plt.plot(Tz,Gm_l(z,Tz),'-',color='blue', label='L')\n",
        "plt.plot(Tz,Gm_g(z,Tz),'-',color='red', label='G')\n",
        "plt.plot(Tz,Gm_lg(z,Tz),'-',color='black', label='L+G')\n",
        "plt.ylabel(r'$G_{m}(\\mathrm{kJ/mol})$',fontsize=20)\n",
        "plt.xlabel(r'$T(\\mathrm{K})$',fontsize=20)\n",
        "plt.legend()\n",
        "plt.xlim(tcross(z)-1,tcross(z)+1)\n",
        "plt.xticks(np.arange(tcross(z)-0.75, tcross(z)+1.25, step=0.5),fontsize=16)\n",
        "plt.yticks(fontsize=16)\n",
        "plt.tight_layout()\n",
        "plt.savefig('Gibbs_energies_zoom.svg')\n",
        "plt.show()\n"
      ],
      "metadata": {
        "id": "p0ras8fZlbSw",
        "cellView": "form"
      },
      "execution_count": null,
      "outputs": []
    }
  ]
}